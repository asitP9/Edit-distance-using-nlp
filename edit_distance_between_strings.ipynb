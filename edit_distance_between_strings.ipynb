{
 "cells": [
  {
   "cell_type": "code",
   "execution_count": 3,
   "metadata": {},
   "outputs": [],
   "source": [
    "from nltk.metrics import edit_distance\n",
    "import pandas as pd"
   ]
  },
  {
   "cell_type": "code",
   "execution_count": 5,
   "metadata": {},
   "outputs": [
    {
     "name": "stdout",
     "output_type": "stream",
     "text": [
      "        city  city_distance_delhi  city_distance_mumbai\n",
      "0    delhiii                    2                     6\n",
      "1      dalhi                    1                     5\n",
      "2      delhi                    0                     5\n",
      "3     mumbai                    5                     0\n",
      "4    moombai                    6                     2\n",
      "5    mumbhai                    5                     1\n",
      "6  hyderabad                    7                     7\n",
      "7    kolkata                    6                     6\n"
     ]
    }
   ],
   "source": [
    "df_city_ex=pd.DataFrame(data={'city':['delhiii', 'dalhi', 'delhi', 'mumbai', 'moombai', 'mumbhai', 'hyderabad', 'kolkata']})\n",
    "df_city_ex['city_distance_delhi']=df_city_ex['city'].map(lambda x: edit_distance(x, 'delhi'))\n",
    "df_city_ex['city_distance_mumbai']=df_city_ex['city'].map(lambda x: edit_distance(x, 'mumbai'))\n",
    "print(df_city_ex)\n"
   ]
  },
  {
   "cell_type": "code",
   "execution_count": null,
   "metadata": {},
   "outputs": [],
   "source": [
    "# We can set criteria to convert these typos to the correct values. \n",
    "# For example, the below code sets all the values within 2 letters distance from “delhi” to be “delhi”. \n",
    "# Similarly, we have for mumbai to mumbai.\n",
    "\n",
    "msk=df_city_ex['city_distance_delhi']<=2\n",
    "print()\n",
    "df_city_ex.loc[msk, 'city']='delhi'"
   ]
  }
 ],
 "metadata": {
  "kernelspec": {
   "display_name": "Python 3",
   "language": "python",
   "name": "python3"
  },
  "language_info": {
   "codemirror_mode": {
    "name": "ipython",
    "version": 3
   },
   "file_extension": ".py",
   "mimetype": "text/x-python",
   "name": "python",
   "nbconvert_exporter": "python",
   "pygments_lexer": "ipython3",
   "version": "3.8.5"
  }
 },
 "nbformat": 4,
 "nbformat_minor": 4
}
